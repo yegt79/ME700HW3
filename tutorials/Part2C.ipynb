{
 "cells": [
  {
   "cell_type": "markdown",
   "metadata": {},
   "source": [
    "# Assignment 3 - 2C: Implementing a Large Deformation with Point Load to Capture Failure"
   ]
  },
  {
   "cell_type": "markdown",
   "metadata": {},
   "source": [
    "## Imports and Setup"
   ]
  },
  {
   "cell_type": "code",
   "execution_count": null,
   "metadata": {},
   "outputs": [],
   "source": [
    "%matplotlib inline\n",
    "from finiteelementanalysis import pre_process as pre\n",
    "from finiteelementanalysis import pre_process_demo_helper_fcns as pre_demo\n",
    "from finiteelementanalysis.solver import hyperelastic_solver\n",
    "from finiteelementanalysis import visualize as viz\n",
    "import matplotlib.pyplot as plt\n",
    "import numpy as np\n",
    "from pathlib import Path\n",
    "\n",
    "# for saving files later\n",
    "tutorials_dir = Path.cwd()  # Use current working directory in notebook"
   ]
  },
  {
   "cell_type": "markdown",
   "metadata": {},
   "source": [
    "## Beam Geometry and Base Parameters"
   ]
  },
  {
   "cell_type": "code",
   "execution_count": null,
   "metadata": {},
   "outputs": [],
   "source": [
    "L = 30   # length in x\n",
    "H = 1    # height in y\n",
    "P = -1000  # point load (large downward force to induce failure)\n",
    "E = 1000.0\n",
    "nu = 0.3\n",
    "mu = E / (2.0 * (1.0 + nu))\n",
    "kappa = E / (3.0 * (1.0 - 2.0 * nu))\n",
    "material_props = np.array([mu, kappa])\n",
    "\n",
    "# Analytical solution for comparison (point load at end)\n",
    "E_eff = E / (1 - nu ** 2.0)  # Plane strain adjustment\n",
    "I = H ** 3 / 12.0\n",
    "w_analytical = P * L ** 3 / (3.0 * E_eff * I)"
   ]
  },
  {
   "cell_type": "markdown",
   "metadata": {},
   "source": [
    "## Simulation Function"
   ]
  },
  {
   "cell_type": "code",
   "execution_count": null,
   "metadata": {},
   "outputs": [],
   "source": [
    "# Function to run simulation and return tip deflection\n",
    "def run_simulation(ele_type, nx, ny, label):\n",
    "    ndof = 2  # 2 DOFs per node (x, y)\n",
    "    \n",
    "    # Generate mesh\n",
    "    coords, connect = pre.generate_rect_mesh_2d(ele_type, 0.0, 0.0, L, H, nx, ny)\n",
    "    \n",
    "    # Identify boundaries\n",
    "    boundary_nodes, boundary_edges = pre.identify_rect_boundaries(\n",
    "        coords, connect, ele_type, x_lower=0.0, x_upper=L, y_lower=0.0, y_upper=H\n",
    "    )\n",
    "    \n",
    "    # Boundary conditions\n",
    "    fixed_left = pre.assign_fixed_nodes_rect(boundary_nodes, \"left\", 0.0, 0.0)\n",
    "    \n",
    "    # Apply point load at the tip node (x=L, y=H/2)\n",
    "    tip_node = None\n",
    "    tol = 1e-3\n",
    "    for i, (x, y) in enumerate(coords):\n",
    "        if abs(x - L) < tol and abs(y - H/2) < H/(2*ny):\n",
    "            tip_node = i\n",
    "            break\n",
    "    if tip_node is None:\n",
    "        raise ValueError(f\"Could not find tip node near x=L, y=H/2 for {label}.\")\n",
    "    \n",
    "    # Create dload_info for point load: [node_id, dof, load_value]\n",
    "    dload_info = np.array([[tip_node, 1, P]])  # Apply P in y-direction (dof=1)\n",
    "    \n",
    "    fixed_nodes = fixed_left\n",
    "    \n",
    "    # Solve\n",
    "    try:\n",
    "        displacements_all, nr_info_all = hyperelastic_solver(\n",
    "            material_props,\n",
    "            ele_type,\n",
    "            coords.T,\n",
    "            connect.T,\n",
    "            fixed_nodes,\n",
    "            dload_info,\n",
    "            nr_print=True,  # Enable printing to capture solver failure\n",
    "            nr_num_steps=10,  # Increase steps to allow load incrementing\n",
    "            nr_tol=1e-10,\n",
    "            nr_maxit=30,\n",
    "        )\n",
    "    except Exception as e:\n",
    "        error_msg = (\n",
    "            f\"Simulation failed for {label}:\\n\"\n",
    "            f\"  Exception Type: {type(e).__name__}\\n\"\n",
    "            f\"  Error Message: {str(e)}\\n\"\n",
    "            f\"  Load Step Info: Check solver output above (nr_print=True) for details on the last attempted step.\\n\"\n",
    "            f\"  Possible Cause: Large point load (P={P}) may cause excessive deformation or non-convergence in the Newton-Raphson solver.\"\n",
    "        )\n",
    "        print(error_msg)\n",
    "        return None\n",
    "    \n",
    "    final_disp = displacements_all[-1]\n",
    "    \n",
    "    tip_disp_y = final_disp[ndof*tip_node + 1]\n",
    "    \n",
    "    # Generate deformation GIF\n",
    "    img_name = f\"deformation_{label}.gif\"\n",
    "    fname = str(tutorials_dir / img_name)\n",
    "    viz.make_deformation_gif(displacements_all, coords, connect, ele_type, fname)\n",
    "    \n",
    "    return tip_disp_y"
   ]
  },
  {
   "cell_type": "markdown",
   "metadata": {},
   "source": [
    "## Run Simulation"
   ]
  },
  {
   "cell_type": "code",
   "execution_count": null,
   "metadata": {},
   "outputs": [],
   "source": [
    "# Define single case (no refinement)\n",
    "case = {\"label\": \"Original\", \"ele_type\": \"D2_nn4_quad\", \"nx\": 40, \"ny\": 2}\n",
    "\n",
    "# Run simulation\n",
    "tip_deflection = run_simulation(case[\"ele_type\"], case[\"nx\"], case[\"ny\"], case[\"label\"])"
   ]
  },
  {
   "cell_type": "markdown",
   "metadata": {},
   "source": [
    "## Print Results"
   ]
  },
  {
   "cell_type": "code",
   "execution_count": null,
   "metadata": {},
   "outputs": [],
   "source": [
    "print(\"\\n=== Tip Deflection Results ===\")\n",
    "print(f\"Analytical Euler-Bernoulli deflection: {w_analytical:.6f}\")\n",
    "if tip_deflection is not None:\n",
    "    error = abs(tip_deflection - w_analytical)\n",
    "    print(f\"{case['label']}:\")\n",
    "    print(f\"  Computed tip deflection (y): {tip_deflection:.6f}\")\n",
    "    print(f\"  Absolute error: {error:.6e}\")\n",
    "else:\n",
    "    print(f\"{case['label']}: Failed to converge\")"
   ]
  },
  {
   "cell_type": "markdown",
   "metadata": {},
   "source": [
    "## Plot Results"
   ]
  },
  {
   "cell_type": "code",
   "execution_count": null,
   "metadata": {},
   "outputs": [],
   "source": [
    "# Prepare data for plotting\n",
    "labels = [case['label']]\n",
    "computed_deflection = [tip_deflection if tip_deflection is not None else 0]\n",
    "analytical_line = [w_analytical]\n",
    "\n",
    "# Create bar plot\n",
    "plt.figure(figsize=(6, 6))\n",
    "plt.bar(labels, computed_deflection, color='skyblue', label='Computed')\n",
    "plt.plot(labels, analytical_line, color='red', linestyle='--', label='Analytical')\n",
    "plt.xlabel('Simulation Case')\n",
    "plt.ylabel('Tip Deflection (y)')\n",
    "plt.title('Tip Deflection Result')\n",
    "plt.legend()\n",
    "plt.grid(True, linestyle='--', alpha=0.7)\n",
    "plt.show()"
   ]
  },
  {
   "cell_type": "markdown",
   "metadata": {},
   "source": [
    "## Additional Variable"
   ]
  },
  {
   "cell_type": "code",
   "execution_count": null,
   "metadata": {},
   "outputs": [],
   "source": [
    "aa = 44"
   ]
  }
 ],
 "metadata": {
  "kernelspec": {
   "display_name": "Python 3",
   "language": "python",
   "name": "python3"
  },
  "language_info": {
   "codemirror_mode": {
    "name": "ipython",
    "version": 3
   },
   "file_extension": ".py",
   "mimetype": "text/x-python",
   "name": "python",
   "nbconvert_exporter": "python",
   "pygments_lexer": "ipython3",
   "version": "3.x"
  }
 },
 "nbformat": 4,
 "nbformat_minor": 5
}
