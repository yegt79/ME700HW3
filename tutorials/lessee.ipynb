{
 "cells": [
  {
   "cell_type": "markdown",
   "metadata": {},
   "source": [
    "# Assignment 3 - 2B: Implementing a Large Deformation with h-refinement & p-refinement"
   ]
  },
  {
   "cell_type": "markdown",
   "metadata": {},
   "source": [
    "## Imports and Setup"
   ]
  },
  {
   "cell_type": "code",
   "execution_count": null,
   "metadata": {},
   "outputs": [],
   "source": [
    "%matplotlib inline\n",
    "from finiteelementanalysis import pre_process as pre\n",
    "from finiteelementanalysis import pre_process_demo_helper_fcns as pre_demo\n",
    "from finiteelementanalysis.solver import hyperelastic_solver\n",
    "from finiteelementanalysis import visualize as viz\n",
    "import matplotlib.pyplot as plt\n",
    "import numpy as np\n",
    "from pathlib import Path\n",
    "\n",
    "# for saving files later\n",
    "tutorials_dir = Path.cwd()  # Use current working directory in notebook"
   ]
  },
  {
   "cell_type": "markdown",
   "metadata": {},
   "source": [
    "## Beam Geometry and Base Parameters"
   ]
  },
  {
   "cell_type": "code",
   "execution_count": null,
   "metadata": {},
   "outputs": [],
   "source": [
    "L = 30   # length in x\n",
    "H = 1    # height in y\n",
    "q = -0.2  # uniform downward load per unit length\n",
    "E = 50000.0\n",
    "nu = 0.3\n",
    "mu = E / (2.0 * (1.0 + nu))\n",
    "kappa = E / (3.0 * (1.0 - 2.0 * nu))\n",
    "material_props = np.array([mu, kappa])\n",
    "\n",
    "# Analytical solution for comparison\n",
    "E_eff = E / (1 - nu ** 2.0)  # Plane strain adjustment\n",
    "I = H ** 3 / 12.0\n",
    "w_analytical = q * L ** 4 / (8.0 * E_eff * I)"
   ]
  },
  {
   "cell_type": "markdown",
   "metadata": {},
   "source": [
    "## Simulation Function"
   ]
  },
  {
   "cell_type": "code",
   "execution_count": null,
   "metadata": {},
   "outputs": [],
   "source": [
    "# Function to run simulation and return tip deflection\n",
    "def run_simulation(ele_type, nx, ny, label):\n",
    "    ndof = 2  # 2 DOFs per node (x, y)\n",
    "    \n",
    "    # Generate mesh\n",
    "    coords, connect = pre.generate_rect_mesh_2d(ele_type, 0.0, 0.0, L, H, nx, ny)\n",
    "    \n",
    "    # Identify boundaries\n",
    "    boundary_nodes, boundary_edges = pre.identify_rect_boundaries(\n",
    "        coords, connect, ele_type, x_lower=0.0, x_upper=L, y_lower=0.0, y_upper=H\n",
    "    )\n",
    "    \n",
    "    # Boundary conditions\n",
    "    fixed_left = pre.assign_fixed_nodes_rect(boundary_nodes, \"left\", 0.0, 0.0)\n",
    "    dload_info = pre.assign_uniform_load_rect(boundary_edges, \"top\", 0.0, q)\n",
    "    fixed_nodes = fixed_left\n",
    "    \n",
    "    # Solve\n",
    "    displacements_all, nr_info_all = hyperelastic_solver(\n",
    "        material_props,\n",
    "        ele_type,\n",
    "        coords.T,\n",
    "        connect.T,\n",
    "        fixed_nodes,\n",
    "        dload_info,\n",
    "        nr_print=False,  # Suppress printing for cleaner output\n",
    "        nr_num_steps=1,\n",
    "        nr_tol=1e-10,\n",
    "        nr_maxit=30,\n",
    "    )\n",
    "    \n",
    "    final_disp = displacements_all[-1]\n",
    "    \n",
    "    # Find tip node (x=L, y=H/2)\n",
    "    tip_node = None\n",
    "    tol = 1e-3\n",
    "    for i, (x, y) in enumerate(coords):\n",
    "        if abs(x - L) < tol and abs(y - H/2) < H/(2*ny):\n",
    "            tip_node = i\n",
    "            break\n",
    "    if tip_node is None:\n",
    "        raise ValueError(f\"Could not find tip node near x=L, y=H/2 for {label}.\")\n",
    "    \n",
    "    tip_disp_y = final_disp[ndof*tip_node + 1]\n",
    "    \n",
    "    # Optional: Generate deformation GIF\n",
    "    img_name = f\"deformation_{label}.gif\"\n",
    "    fname = str(tutorials_dir / img_name)\n",
    "    viz.make_deformation_gif(displacements_all, coords, connect, ele_type, fname)\n",
    "    \n",
    "    return tip_disp_y"
   ]
  },
  {
   "cell_type": "markdown",
   "metadata": {},
   "source": [
    "## Define Refinement Cases"
   ]
  },
  {
   "cell_type": "code",
   "execution_count": null,
   "metadata": {},
   "outputs": [],
   "source": [
    "cases = [\n",
    "    {\"label\": \"Original\", \"ele_type\": \"D2_nn4_quad\", \"nx\": 40, \"ny\": 2},\n",
    "    {\"label\": \"H-Refinement (2x)\", \"ele_type\": \"D2_nn4_quad\", \"nx\": 80, \"ny\": 4},  # Double elements\n",
    "    {\"label\": \"H-Refinement (3x)\", \"ele_type\": \"D2_nn4_quad\", \"nx\": 120, \"ny\": 6},  # Triple elements\n",
    "    {\"label\": \"H-Refinement (4x)\", \"ele_type\": \"D2_nn4_quad\", \"nx\": 160, \"ny\": 8},  # Quad elements\n",
    "    {\"label\": \"P-Refinement (Quad8)\", \"ele_type\": \"D2_nn8_quad\", \"nx\": 40, \"ny\": 2},  # Higher-order quad elements\n",
    "    {\"label\": \"P-Refinement (Tri3)\", \"ele_type\": \"D2_nn3_tri\", \"nx\": 40, \"ny\": 2},  # Triangular elements\n",
    "    {\"label\": \"P-Refinement (Tri6)\", \"ele_type\": \"D2_nn6_tri\", \"nx\": 40, \"ny\": 2},  # Higher-order triangular elements\n",
    "]"
   ]
  },
  {
   "cell_type": "markdown",
   "metadata": {},
   "source": [
    "## Run Simulations and Collect Results"
   ]
  },
  {
   "cell_type": "code",
   "execution_count": null,
   "metadata": {},
   "outputs": [],
   "source": [
    "results = {}\n",
    "for case in cases:\n",
    "    tip_deflection = run_simulation(case[\"ele_type\"], case[\"nx\"], case[\"ny\"], case[\"label\"])\n",
    "    results[case[\"label\"]] = tip_deflection"
   ]
  },
  {
   "cell_type": "markdown",
   "metadata": {},
   "source": [
    "## Print Comparison"
   ]
  },
  {
   "cell_type": "code",
   "execution_count": null,
   "metadata": {},
   "outputs": [],
   "source": [
    "print(\"\\n=== Tip Deflection Comparison ===\")\n",
    "print(f\"Analytical Euler-Bernoulli deflection: {w_analytical:.6f}\")\n",
    "for label, tip_disp_y in results.items():\n",
    "    error = abs(tip_disp_y - w_analytical)\n",
    "    print(f\"{label}:\")\n",
    "    print(f\"  Computed tip deflection (y): {tip_disp_y:.6f}\")\n",
    "    print(f\"  Absolute error: {error:.6e}\")"
   ]
  },
  {
   "cell_type": "markdown",
   "metadata": {},
   "source": [
    "## Plot Results"
   ]
  },
  {
   "cell_type": "code",
   "execution_count": null,
   "metadata": {},
   "outputs": [],
   "source": [
    "# Prepare data for plotting\n",
    "labels = list(results.keys())\n",
    "computed_deflections = list(results.values())\n",
    "errors = [abs(tip_disp_y - w_analytical) for tip_disp_y in computed_deflections]\n",
    "analytical_line = [w_analytical] * len(labels)  # Constant line for analytical solution\n",
    "\n",
    "# Plot 1: Tip Deflection Comparison\n",
    "plt.figure(figsize=(12, 6))\n",
    "plt.bar(labels, computed_deflections, color='skyblue', label='Computed')\n",
    "plt.plot(labels, analytical_line, color='red', linestyle='--', label='Analytical')\n",
    "plt.xlabel('Simulation Case')\n",
    "plt.ylabel('Tip Deflection (y)')\n",
    "plt.title('Tip Deflection Comparison Across Cases')\n",
    "plt.legend()\n",
    "plt.grid(True, linestyle='--', alpha=0.7)\n",
    "plt.xticks(rotation=45, ha='right')\n",
    "plt.tight_layout()\n",
    "plt.savefig('tip_deflection_comparison.png')\n",
    "plt.show()\n",
    "\n",
    "# Plot 2: Error Comparison\n",
    "plt.figure(figsize=(12, 6))\n",
    "plt.bar(labels, errors, color='lightcoral', label='Absolute Error')\n",
    "plt.xlabel('Simulation Case')\n",
    "plt.ylabel('Absolute Error')\n",
    "plt.title('Error Comparison Across Cases')\n",
    "plt.yscale('log')  # Log scale for wide error range\n",
    "plt.legend()\n",
    "plt.grid(True, linestyle='--', alpha=0.7)\n",
    "plt.xticks(rotation=45, ha='right')\n",
    "plt.tight_layout()\n",
    "plt.savefig('error_comparison.png')\n",
    "plt.show()"
   ]
  },
  {
   "cell_type": "markdown",
   "metadata": {},
   "source": [
    "## Additional Variable"
   ]
  },
  {
   "cell_type": "code",
   "execution_count": null,
   "metadata": {},
   "outputs": [],
   "source": [
    "aa = 44"
   ]
  },
  {
   "cell_type": "markdown",
   "metadata": {},
   "source": [
    "![New Image](new.PNG)"
   ]
  }
 ],
 "metadata": {
  "kernelspec": {
   "display_name": "Python 3",
   "language": "python",
   "name": "python3"
  },
  "language_info": {
   "codemirror_mode": {
    "name": "ipython",
    "version": 3
   },
   "file_extension": ".py",
   "mimetype": "text/x-python",
   "name": "python",
   "nbconvert_exporter": "python",
   "pygments_lexer": "ipython3",
   "version": "3.x"
  }
 },
 "nbformat": 4,
 "nbformat_minor": 5
}
