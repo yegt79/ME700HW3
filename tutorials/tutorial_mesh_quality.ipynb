{
 "cells": [
  {
   "cell_type": "code",
   "execution_count": 17,
   "metadata": {},
   "outputs": [],
   "source": [
    "from finiteelementanalysis import pre_process as pre\n",
    "from finiteelementanalysis import pre_process_demo_helper_fcns as pre_demo\n",
    "import numpy as np\n",
    "\n",
    "\n",
    "def fcn_interp_1(x, y):\n",
    "    return np.sin(x) * np.cos(y)\n",
    "\n",
    "def refinement_example(fname, ele_type, num_gauss_pts, nx, ny, fcn_interp):\n",
    "    x_lower, y_lower = 0, 0\n",
    "    x_upper, y_upper = 10, 10\n",
    "    coords, connect = pre.generate_rect_mesh_2d(ele_type, x_lower, y_lower, x_upper, y_upper, nx, ny)\n",
    "    mesh_gauss_pts = pre_demo.get_all_mesh_gauss_pts(ele_type, num_gauss_pts, coords, connect)\n",
    "    ground_truth = fcn_interp(mesh_gauss_pts[:, :, 0], mesh_gauss_pts[:, :, 1])\n",
    "    interpolated = pre_demo.interpolate_scalar_to_gauss_pts(ele_type, num_gauss_pts, fcn_interp, coords, connect)\n",
    "    pre_demo.plot_interpolation_with_error(fname, ele_type, coords, connect, mesh_gauss_pts, interpolated, ground_truth)\n",
    "    return"
   ]
  },
  {
   "cell_type": "code",
   "execution_count": 18,
   "metadata": {},
   "outputs": [
    {
     "data": {
      "text/plain": [
       "<Figure size 4200x2100 with 4 Axes>"
      ]
     },
     "metadata": {},
     "output_type": "display_data"
    },
    {
     "data": {
      "text/plain": [
       "<Figure size 4200x2100 with 4 Axes>"
      ]
     },
     "metadata": {},
     "output_type": "display_data"
    },
    {
     "data": {
      "text/plain": [
       "<Figure size 4200x2100 with 4 Axes>"
      ]
     },
     "metadata": {},
     "output_type": "display_data"
    },
    {
     "data": {
      "text/plain": [
       "<Figure size 4200x2100 with 4 Axes>"
      ]
     },
     "metadata": {},
     "output_type": "display_data"
    },
    {
     "data": {
      "text/plain": [
       "<Figure size 4200x2100 with 4 Axes>"
      ]
     },
     "metadata": {},
     "output_type": "display_data"
    },
    {
     "data": {
      "text/plain": [
       "<Figure size 4200x2100 with 4 Axes>"
      ]
     },
     "metadata": {},
     "output_type": "display_data"
    },
    {
     "data": {
      "text/plain": [
       "<Figure size 4200x2100 with 4 Axes>"
      ]
     },
     "metadata": {},
     "output_type": "display_data"
    }
   ],
   "source": [
    "# Demonstrate h-refinement\n",
    "fcn_interp = fcn_interp_1\n",
    "ele_type = \"D2_nn3_tri\"\n",
    "num_gauss_pts = 1\n",
    "\n",
    "for val in [2, 4, 8, 16, 32, 64, 128]:\n",
    "    nx = val\n",
    "    ny = val\n",
    "    fname = \"h_refine_example_\" + ele_type + \"_nx%i_ny%i\" % (nx, ny) + \".png\"\n",
    "    refinement_example(fname, ele_type, num_gauss_pts, nx, ny, fcn_interp)"
   ]
  },
  {
   "cell_type": "code",
   "execution_count": 19,
   "metadata": {},
   "outputs": [
    {
     "data": {
      "text/plain": [
       "<Figure size 4200x2100 with 4 Axes>"
      ]
     },
     "metadata": {},
     "output_type": "display_data"
    },
    {
     "data": {
      "text/plain": [
       "<Figure size 4200x2100 with 4 Axes>"
      ]
     },
     "metadata": {},
     "output_type": "display_data"
    },
    {
     "data": {
      "text/plain": [
       "<Figure size 4200x2100 with 4 Axes>"
      ]
     },
     "metadata": {},
     "output_type": "display_data"
    },
    {
     "data": {
      "text/plain": [
       "<Figure size 4200x2100 with 4 Axes>"
      ]
     },
     "metadata": {},
     "output_type": "display_data"
    },
    {
     "data": {
      "text/plain": [
       "<Figure size 4200x2100 with 4 Axes>"
      ]
     },
     "metadata": {},
     "output_type": "display_data"
    },
    {
     "data": {
      "text/plain": [
       "<Figure size 4200x2100 with 4 Axes>"
      ]
     },
     "metadata": {},
     "output_type": "display_data"
    },
    {
     "data": {
      "text/plain": [
       "<Figure size 4200x2100 with 4 Axes>"
      ]
     },
     "metadata": {},
     "output_type": "display_data"
    }
   ],
   "source": [
    "# Demonstrate p-refinement\n",
    "fcn_interp = fcn_interp_1\n",
    "ele_type = \"D2_nn6_tri\"\n",
    "num_gauss_pts = 1\n",
    "\n",
    "for val in [2, 4, 8, 16, 32, 64, 128]:\n",
    "    nx = val\n",
    "    ny = val\n",
    "    fname = \"p_refine_example_\" + ele_type + \"_nx%i_ny%i\" % (nx, ny) + \".png\"\n",
    "    refinement_example(fname, ele_type, num_gauss_pts, nx, ny, fcn_interp)"
   ]
  },
  {
   "cell_type": "code",
   "execution_count": 21,
   "metadata": {},
   "outputs": [
    {
     "name": "stdout",
     "output_type": "stream",
     "text": [
      "0.8660254037844386 1.732050807568877\n",
      "0.49999999999999994 1.0\n",
      "0.25881904510252074 1.9318516525781373\n",
      "0.05 10.0\n",
      "0.001 499.9999999999999\n",
      "0.0001 5000.0\n"
     ]
    }
   ],
   "source": [
    "from finiteelementanalysis import discretization as di\n",
    "import numpy as np\n",
    "\n",
    "def condition_number_2x2(matrix: np.ndarray) -> float:\n",
    "    \"\"\"\n",
    "    Computes the 2-norm condition number of a 2x2 matrix.\n",
    "    \n",
    "    Parameters\n",
    "    ----------\n",
    "    matrix : np.ndarray\n",
    "        A 2x2 matrix.\n",
    "    \n",
    "    Returns\n",
    "    -------\n",
    "    float\n",
    "        The condition number (ratio of largest to smallest singular value).\n",
    "    \"\"\"\n",
    "    if matrix.shape != (2, 2):\n",
    "        raise ValueError(\"Input must be a 2x2 matrix.\")\n",
    "    \n",
    "    sigma = np.linalg.svd(matrix, compute_uv=False)\n",
    "    return sigma[0] / sigma[1]\n",
    "\n",
    "\n",
    "def compute_J(coords, shape_fcn_deriv):\n",
    "    return coords.T @ shape_fcn_deriv\n",
    "\n",
    "dN_dxi = di.D2_nn3_tri_dxi(np.asarray([0, 0]))\n",
    "x1, y1 = 0.0, 0.0\n",
    "x2, y2 = 1.0, 0.0\n",
    "x3 = 0.5\n",
    "\n",
    "for y3 in [np.sin(np.pi / 3.0), np.sin(np.pi / 6.0), np.sin(np.pi / 12.0), 0.05, 0.001, 0.0001]:\n",
    "    coords = np.asarray([[x1, y1], [x2, y2], [x3, y3]])\n",
    "    J = compute_J(coords, dN_dxi)\n",
    "    kappa = condition_number_2x2(J)\n",
    "    print(y3, kappa)"
   ]
  },
  {
   "cell_type": "code",
   "execution_count": 1,
   "metadata": {},
   "outputs": [
    {
     "name": "stderr",
     "output_type": "stream",
     "text": [
      "Warning : Unknown entity of dimension 2 and tag 1 in physical group 1\n"
     ]
    },
    {
     "name": "stdout",
     "output_type": "stream",
     "text": [
      "Info    : Meshing 1D...\n",
      "Info    : [  0%] Meshing curve 1 (Line)\n",
      "Info    : [ 10%] Meshing curve 2 (Line)\n",
      "Info    : [ 10%] Meshing curve 3 (Line)\n",
      "Info    : [ 10%] Meshing curve 4 (Line)\n",
      "Info    : [ 10%] Meshing curve 5 (Line)\n",
      "Info    : [ 10%] Meshing curve 6 (Line)\n",
      "Info    : [ 10%] Meshing curve 7 (Line)\n",
      "Info    : [ 10%] Meshing curve 8 (Line)\n",
      "Info    : [ 10%] Meshing curve 9 (Line)\n",
      "Info    : [ 10%] Meshing curve 10 (Line)\n",
      "Info    : [ 20%] Meshing curve 11 (Line)\n",
      "Info    : [ 20%] Meshing curve 12 (Line)\n",
      "Info    : [ 20%] Meshing curve 13 (Line)\n",
      "Info    : [ 20%] Meshing curve 14 (Line)\n",
      "Info    : [ 20%] Meshing curve 15 (Line)\n",
      "Info    : [ 20%] Meshing curve 16 (Line)\n",
      "Info    : [ 20%] Meshing curve 17 (Line)\n",
      "Info    : [ 20%] Meshing curve 18 (Line)\n",
      "Info    : [ 20%] Meshing curve 19 (Line)\n",
      "Info    : [ 30%] Meshing curve 20 (Line)\n",
      "Info    : [ 30%] Meshing curve 21 (Line)\n",
      "Info    : [ 30%] Meshing curve 22 (Line)\n",
      "Info    : [ 30%] Meshing curve 23 (Line)\n",
      "Info    : [ 30%] Meshing curve 24 (Line)\n",
      "Info    : [ 30%] Meshing curve 25 (Line)\n",
      "Info    : [ 30%] Meshing curve 26 (Line)\n",
      "Info    : [ 30%] Meshing curve 27 (Line)\n",
      "Info    : [ 30%] Meshing curve 28 (Line)\n",
      "Info    : [ 40%] Meshing curve 29 (Line)\n",
      "Info    : [ 40%] Meshing curve 30 (Line)\n",
      "Info    : [ 40%] Meshing curve 31 (Line)\n",
      "Info    : [ 40%] Meshing curve 32 (Line)\n",
      "Info    : [ 40%] Meshing curve 33 (Line)\n",
      "Info    : [ 40%] Meshing curve 34 (Line)\n",
      "Info    : [ 40%] Meshing curve 35 (Line)\n",
      "Info    : [ 40%] Meshing curve 36 (Line)\n",
      "Info    : [ 40%] Meshing curve 37 (Line)\n",
      "Info    : [ 50%] Meshing curve 38 (Line)\n",
      "Info    : [ 50%] Meshing curve 39 (Line)\n",
      "Info    : [ 50%] Meshing curve 40 (Line)\n",
      "Info    : [ 50%] Meshing curve 41 (Line)\n",
      "Info    : [ 50%] Meshing curve 42 (Line)\n",
      "Info    : [ 50%] Meshing curve 43 (Line)\n",
      "Info    : [ 50%] Meshing curve 44 (Line)\n",
      "Info    : [ 50%] Meshing curve 45 (Line)\n",
      "Info    : [ 50%] Meshing curve 46 (Line)\n",
      "Info    : [ 60%] Meshing curve 47 (Line)\n",
      "Info    : [ 60%] Meshing curve 48 (Line)\n",
      "Info    : [ 60%] Meshing curve 49 (Line)\n",
      "Info    : [ 60%] Meshing curve 50 (Line)\n",
      "Info    : [ 60%] Meshing curve 51 (Line)\n",
      "Info    : [ 60%] Meshing curve 52 (Line)\n",
      "Info    : [ 60%] Meshing curve 53 (Line)\n",
      "Info    : [ 60%] Meshing curve 54 (Line)\n",
      "Info    : [ 60%] Meshing curve 55 (Line)\n",
      "Info    : [ 70%] Meshing curve 56 (Line)\n",
      "Info    : [ 70%] Meshing curve 57 (Line)\n",
      "Info    : [ 70%] Meshing curve 58 (Line)\n",
      "Info    : [ 70%] Meshing curve 59 (Line)\n",
      "Info    : [ 70%] Meshing curve 60 (Line)\n",
      "Info    : [ 70%] Meshing curve 61 (Line)\n",
      "Info    : [ 70%] Meshing curve 62 (Line)\n",
      "Info    : [ 70%] Meshing curve 63 (Line)\n",
      "Info    : [ 70%] Meshing curve 64 (Line)\n",
      "Info    : [ 80%] Meshing curve 65 (Line)\n",
      "Info    : [ 80%] Meshing curve 66 (Line)\n",
      "Info    : [ 80%] Meshing curve 67 (Line)\n",
      "Info    : [ 80%] Meshing curve 68 (Line)\n",
      "Info    : [ 80%] Meshing curve 69 (Line)\n",
      "Info    : [ 80%] Meshing curve 70 (Line)\n",
      "Info    : [ 80%] Meshing curve 71 (Line)\n",
      "Info    : [ 80%] Meshing curve 72 (Line)\n",
      "Info    : [ 80%] Meshing curve 73 (Line)\n",
      "Info    : [ 90%] Meshing curve 74 (Line)\n",
      "Info    : [ 90%] Meshing curve 75 (Line)\n",
      "Info    : [ 90%] Meshing curve 76 (Line)\n",
      "Info    : [ 90%] Meshing curve 77 (Line)\n",
      "Info    : [ 90%] Meshing curve 78 (Line)\n",
      "Info    : [ 90%] Meshing curve 79 (Line)\n",
      "Info    : [ 90%] Meshing curve 80 (Line)\n",
      "Info    : [ 90%] Meshing curve 81 (Line)\n",
      "Info    : [ 90%] Meshing curve 82 (Line)\n",
      "Info    : [100%] Meshing curve 83 (Line)\n",
      "Info    : [100%] Meshing curve 84 (Line)\n",
      "Info    : [100%] Meshing curve 85 (Line)\n",
      "Info    : [100%] Meshing curve 86 (Line)\n",
      "Info    : [100%] Meshing curve 87 (Line)\n",
      "Info    : [100%] Meshing curve 88 (Line)\n",
      "Info    : [100%] Meshing curve 89 (Line)\n",
      "Info    : [100%] Meshing curve 90 (Line)\n",
      "Info    : [100%] Meshing curve 91 (Line)\n",
      "Info    : Done meshing 1D (Wall 0.00584929s, CPU 0.005921s)\n",
      "Info    : Meshing 2D...\n",
      "Info    : Meshing surface 1 (Plane, Frontal-Delaunay)\n",
      "Info    : Done meshing 2D (Wall 0.0179675s, CPU 0.013786s)\n",
      "Info    : 536 nodes 1161 elements\n",
      "Info    : Optimizing mesh...\n",
      "Info    : Done optimizing mesh (Wall 2.4999e-06s, CPU 1e-06s)\n"
     ]
    },
    {
     "data": {
      "text/plain": [
       "<Figure size 1350x1350 with 1 Axes>"
      ]
     },
     "metadata": {},
     "output_type": "display_data"
    },
    {
     "data": {
      "text/plain": [
       "<Figure size 3600x3000 with 6 Axes>"
      ]
     },
     "metadata": {},
     "output_type": "display_data"
    },
    {
     "data": {
      "text/plain": [
       "<Figure size 4200x2100 with 4 Axes>"
      ]
     },
     "metadata": {},
     "output_type": "display_data"
    },
    {
     "data": {
      "text/plain": [
       "<Figure size 4200x3600 with 8 Axes>"
      ]
     },
     "metadata": {},
     "output_type": "display_data"
    }
   ],
   "source": [
    "from finiteelementanalysis import pre_process as pre\n",
    "from finiteelementanalysis import pre_process_demo_helper_fcns as pre_demo\n",
    "import numpy as np\n",
    "\n",
    "def fcn_interp_1(x, y):\n",
    "    return np.sin(x / 10.0) * np.cos(y / 10.0)\n",
    "\n",
    "def fcn_interp_deriv_1(x, y):\n",
    "    df_dx = np.cos(x / 10.0) * np.cos(y / 10.0) * 1.0 / 10.0\n",
    "    df_dy = -np.sin(x / 10.0) * np.sin(y / 10.0) * 1.0 / 10.0\n",
    "    return np.array([df_dx, df_dy])\n",
    "\n",
    "# Create mesh\n",
    "ele_type = \"D2_nn3_tri\"\n",
    "num_gauss_pts = 1\n",
    "mesh_name = f\"bulldog_mesh_{ele_type}_gp{num_gauss_pts}\"\n",
    "complex_outline = pre.get_bulldog_outline()\n",
    "mesh_size = 10.0\n",
    "coords, connect = pre.mesh_outline(complex_outline, ele_type, mesh_name, mesh_size)\n",
    "mesh_gauss_pts = pre_demo.get_all_mesh_gauss_pts(ele_type, num_gauss_pts, coords, connect)\n",
    "\n",
    "# Plot mesh\n",
    "pre_demo.plot_mesh_2D(mesh_name, ele_type, coords, connect, mesh_gauss_pts)\n",
    "\n",
    "# Create element quality historams\n",
    "aspect_ratios, skewness, min_angles, max_angles = pre_demo.compute_element_quality_metrics(ele_type, coords, connect)\n",
    "cond_nums, jac_dets = pre_demo.compute_condition_and_jacobian(ele_type, coords, connect)\n",
    "plot_file = mesh_name + \"_histograms\"\n",
    "pre_demo.plot_element_quality_histograms(\n",
    "        fname=str(plot_file),\n",
    "        super_title=\"Test Mesh Quality Metrics (%s)\" % (ele_type),\n",
    "        ele_type=ele_type,\n",
    "        cond_nums=cond_nums,\n",
    "        jac_dets=jac_dets,\n",
    "        aspect_ratios=aspect_ratios,\n",
    "        skewness=skewness,\n",
    "        min_angles=min_angles,\n",
    "        max_angles=max_angles\n",
    "    )\n",
    "\n",
    "# Example interpolation w/ error plots\n",
    "ground_truth_fcn = fcn_interp_1(mesh_gauss_pts[..., 0], mesh_gauss_pts[..., 1])  # Vectorized evaluation\n",
    "interpolated = pre_demo.interpolate_scalar_to_gauss_pts(ele_type, num_gauss_pts, fcn_interp_1, coords, connect)\n",
    "error_plot = mesh_name + \"_fcn_errors\"\n",
    "pre_demo.plot_interpolation_with_error(\n",
    "        str(error_plot),\n",
    "        ele_type,\n",
    "        coords,\n",
    "        connect,\n",
    "        mesh_gauss_pts,\n",
    "        interpolated,\n",
    "        ground_truth_fcn\n",
    "    )\n",
    "\n",
    "# Example interpolation of derivatives w/ error plots\n",
    "ground_truth_grad = np.zeros_like(mesh_gauss_pts)\n",
    "for kk in range(mesh_gauss_pts.shape[0]):\n",
    "    for jj in range(mesh_gauss_pts.shape[1]):\n",
    "        x = mesh_gauss_pts[kk, jj, 0]\n",
    "        y = mesh_gauss_pts[kk, jj, 1]\n",
    "        ground_truth_grad[kk, jj] = fcn_interp_deriv_1(x, y)  # should return [∂f/∂x, ∂f/∂y]\n",
    "\n",
    "# Compute interpolated gradient from nodal values of fcn_3\n",
    "interpolated_grad = pre_demo.interpolate_scalar_deriv_to_gauss_pts(\n",
    "    ele_type,\n",
    "    num_gauss_pts,\n",
    "    fcn_interp_1,\n",
    "    coords,\n",
    "    connect\n",
    ")\n",
    "\n",
    "# Save gradient interpolation error plot\n",
    "grad_error_plot = mesh_name + \"_fcn_grad_errors\"\n",
    "pre_demo.plot_interpolation_gradient_with_error(\n",
    "    str(grad_error_plot),\n",
    "    ele_type,\n",
    "    coords,\n",
    "    connect,\n",
    "    mesh_gauss_pts,\n",
    "    interpolated_grad,\n",
    "    ground_truth_grad\n",
    ")\n",
    "\n"
   ]
  },
  {
   "cell_type": "code",
   "execution_count": null,
   "metadata": {},
   "outputs": [],
   "source": []
  },
  {
   "cell_type": "code",
   "execution_count": null,
   "metadata": {},
   "outputs": [],
   "source": []
  }
 ],
 "metadata": {
  "kernelspec": {
   "display_name": "Python 3 (ipykernel)",
   "language": "python",
   "name": "python3"
  },
  "language_info": {
   "codemirror_mode": {
    "name": "ipython",
    "version": 3
   },
   "file_extension": ".py",
   "mimetype": "text/x-python",
   "name": "python",
   "nbconvert_exporter": "python",
   "pygments_lexer": "ipython3",
   "version": "3.12.9"
  }
 },
 "nbformat": 4,
 "nbformat_minor": 4
}
